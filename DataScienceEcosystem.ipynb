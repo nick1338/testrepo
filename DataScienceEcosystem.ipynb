{
 "cells": [
  {
   "cell_type": "markdown",
   "id": "67e93a0b-b2f1-48d0-80bc-b24e089c8d77",
   "metadata": {},
   "source": [
    "# Data Science Tools and Ecosystem"
   ]
  },
  {
   "cell_type": "markdown",
   "id": "ed357f94-2465-426c-854b-4938104a47c4",
   "metadata": {},
   "source": [
    "Intro: In this notebook, Data Science Tools and Ecosystem are summarized"
   ]
  },
  {
   "cell_type": "markdown",
   "id": "5da47279-dac7-4ff7-866a-8a05660b723d",
   "metadata": {},
   "source": [
    "**Objectives:**\n",
    "- List popular languages for data science\n",
    "- List some common libraries in data science\n",
    "- List some Data Science Tools\n",
    "- Examples of evaluating arithmetic expressions\n",
    "- Examples of python calculation"
   ]
  },
  {
   "cell_type": "markdown",
   "id": "19da1967-5418-4e9f-b37b-cc7dffd6e627",
   "metadata": {},
   "source": [
    "Some of the popular languages that Data Scientists use are:\n",
    "1. Python\n",
    "2. R\n",
    "3. SQL"
   ]
  },
  {
   "cell_type": "markdown",
   "id": "91afa426-25a0-460a-8852-4d60a8f38b34",
   "metadata": {},
   "source": [
    "Some of the commonly used libraries used by Data Scientists include:\n",
    "1. pandas\n",
    "2. numpy\n",
    "3. scikit-learn"
   ]
  },
  {
   "cell_type": "markdown",
   "id": "8057e917-a0d5-4e79-bf94-0ef99a19b2cc",
   "metadata": {},
   "source": [
    "\n",
    "|Data Science Tools|\n",
    "|-|\n",
    "|Jupyter Lab|\n",
    "|Watson Studio|\n",
    "|Data Refinery|"
   ]
  },
  {
   "cell_type": "markdown",
   "id": "e24acbf8-c2c3-493e-92ee-c036186572bd",
   "metadata": {},
   "source": [
    "### Below are a few examples of evaluating arithmetic expressions in Python"
   ]
  },
  {
   "cell_type": "code",
   "execution_count": 3,
   "id": "84eaaea6-63c7-405a-bea6-6c6b0f1dfc76",
   "metadata": {
    "collapsed": true,
    "jupyter": {
     "outputs_hidden": true
    },
    "tags": []
   },
   "outputs": [
    {
     "data": {
      "text/plain": [
       "17"
      ]
     },
     "execution_count": 3,
     "metadata": {},
     "output_type": "execute_result"
    }
   ],
   "source": [
    "# This a simple arithmetic expression to mutiply then add integers\n",
    "(3*4)+5"
   ]
  },
  {
   "cell_type": "code",
   "execution_count": 4,
   "id": "198f57d0-2f67-44e4-9493-55912def1736",
   "metadata": {},
   "outputs": [
    {
     "data": {
      "text/plain": [
       "3.3333333333333335"
      ]
     },
     "execution_count": 4,
     "metadata": {},
     "output_type": "execute_result"
    }
   ],
   "source": [
    "# This will convert 200 minutes to hours by diving by 60\n",
    "200/60"
   ]
  },
  {
   "cell_type": "markdown",
   "id": "af9864e0-3fbe-4bbe-a4d7-a7029e4c6e66",
   "metadata": {},
   "source": [
    "## Author\n",
    "Nicholas"
   ]
  }
 ],
 "metadata": {
  "kernelspec": {
   "display_name": "Python",
   "language": "python",
   "name": "conda-env-python-py"
  },
  "language_info": {
   "codemirror_mode": {
    "name": "ipython",
    "version": 3
   },
   "file_extension": ".py",
   "mimetype": "text/x-python",
   "name": "python",
   "nbconvert_exporter": "python",
   "pygments_lexer": "ipython3",
   "version": "3.7.12"
  }
 },
 "nbformat": 4,
 "nbformat_minor": 5
}
